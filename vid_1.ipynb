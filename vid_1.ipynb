{
 "cells": [
  {
   "cell_type": "code",
   "execution_count": 1,
   "id": "c7827dba-21ea-47ad-9396-e5ec8aad6167",
   "metadata": {
    "tags": []
   },
   "outputs": [],
   "source": [
    "import numpy as np\n",
    "import matplotlib.pyplot as plt\n",
    "import torch"
   ]
  },
  {
   "cell_type": "markdown",
   "id": "600b5ec8-7d67-4d03-9318-87cc3b2503ff",
   "metadata": {
    "tags": []
   },
   "source": [
    "### Initializing Tensors"
   ]
  },
  {
   "cell_type": "code",
   "execution_count": 2,
   "id": "e5203200-9abb-4a1a-a71d-59ce9ce5fdcb",
   "metadata": {
    "tags": []
   },
   "outputs": [
    {
     "data": {
      "text/plain": [
       "tensor([[1, 2, 3],\n",
       "        [4, 5, 6]])"
      ]
     },
     "execution_count": 2,
     "metadata": {},
     "output_type": "execute_result"
    }
   ],
   "source": [
    "my_tensor = torch.tensor([[1, 2, 3], [4, 5, 6]])\n",
    "my_tensor"
   ]
  },
  {
   "cell_type": "markdown",
   "id": "22063230-9f03-4542-8c51-b0e67e25ba5c",
   "metadata": {},
   "source": [
    "Tensor with float32 datatype"
   ]
  },
  {
   "cell_type": "code",
   "execution_count": 3,
   "id": "f934a0cc-332c-4797-b06b-7a9edc1a6270",
   "metadata": {
    "tags": []
   },
   "outputs": [
    {
     "data": {
      "text/plain": [
       "tensor([[1., 2., 3.],\n",
       "        [4., 5., 6.]])"
      ]
     },
     "execution_count": 3,
     "metadata": {},
     "output_type": "execute_result"
    }
   ],
   "source": [
    "my_tensor = torch.tensor([[1, 2, 3], [4, 5, 6]], dtype=torch.float32)\n",
    "my_tensor"
   ]
  },
  {
   "cell_type": "markdown",
   "id": "0bdf4e2a-21a2-4fa9-9c95-09332ba46427",
   "metadata": {},
   "source": [
    "Set device with tensor \"cpu / gpu\""
   ]
  },
  {
   "cell_type": "code",
   "execution_count": 4,
   "id": "594c281d-17cd-4063-879c-1382ab1cc632",
   "metadata": {
    "tags": []
   },
   "outputs": [
    {
     "data": {
      "text/plain": [
       "tensor([[1., 2., 3.],\n",
       "        [4., 5., 6.]], device='cuda:0')"
      ]
     },
     "execution_count": 4,
     "metadata": {},
     "output_type": "execute_result"
    }
   ],
   "source": [
    "my_tensor = torch.tensor([[1, 2, 3], [4, 5, 6]], dtype=torch.float32, device=\"cuda\")\n",
    "my_tensor"
   ]
  },
  {
   "cell_type": "code",
   "execution_count": 5,
   "id": "ed87e42d-0fb0-43b0-90d4-c4dae7f63097",
   "metadata": {
    "tags": []
   },
   "outputs": [
    {
     "data": {
      "text/plain": [
       "tensor([[1., 2., 3.],\n",
       "        [4., 5., 6.]])"
      ]
     },
     "execution_count": 5,
     "metadata": {},
     "output_type": "execute_result"
    }
   ],
   "source": [
    "my_tensor = torch.tensor([[1, 2, 3], [4, 5, 6]], dtype=torch.float32, device=\"cpu\")\n",
    "my_tensor"
   ]
  },
  {
   "cell_type": "code",
   "execution_count": 6,
   "id": "52b7d3ae-d155-48fd-82bd-8d95e4520074",
   "metadata": {
    "tags": []
   },
   "outputs": [
    {
     "data": {
      "text/plain": [
       "'cuda'"
      ]
     },
     "execution_count": 6,
     "metadata": {},
     "output_type": "execute_result"
    }
   ],
   "source": [
    "device = \"cuda\" if torch.cuda.is_available() else \"cpu\"\n",
    "device"
   ]
  },
  {
   "cell_type": "code",
   "execution_count": 7,
   "id": "d98ce28c-e9d9-433a-8b34-4266a5dace0d",
   "metadata": {
    "tags": []
   },
   "outputs": [
    {
     "data": {
      "text/plain": [
       "tensor([[1., 2., 3.],\n",
       "        [4., 5., 6.]], device='cuda:0')"
      ]
     },
     "execution_count": 7,
     "metadata": {},
     "output_type": "execute_result"
    }
   ],
   "source": [
    "my_tensor = torch.tensor([[1, 2, 3], [4, 5, 6]], dtype=torch.float32, device=device)\n",
    "my_tensor"
   ]
  },
  {
   "cell_type": "markdown",
   "id": "c8f7e350-a5e7-4269-97a3-cf45082d1017",
   "metadata": {},
   "source": [
    "Attributes of tensor"
   ]
  },
  {
   "cell_type": "code",
   "execution_count": 8,
   "id": "bff93420-7c1a-4270-8618-7c4fcc458f8e",
   "metadata": {
    "tags": []
   },
   "outputs": [
    {
     "data": {
      "text/plain": [
       "torch.float32"
      ]
     },
     "execution_count": 8,
     "metadata": {},
     "output_type": "execute_result"
    }
   ],
   "source": [
    "my_tensor.dtype"
   ]
  },
  {
   "cell_type": "code",
   "execution_count": 9,
   "id": "24b2243e-fd90-46b9-9e1d-8ce5c737b889",
   "metadata": {
    "tags": []
   },
   "outputs": [
    {
     "data": {
      "text/plain": [
       "torch.Size([2, 3])"
      ]
     },
     "execution_count": 9,
     "metadata": {},
     "output_type": "execute_result"
    }
   ],
   "source": [
    "my_tensor.shape"
   ]
  },
  {
   "cell_type": "code",
   "execution_count": 10,
   "id": "9d3d7003-f58a-44d6-a5b0-7b9c40b9c03a",
   "metadata": {
    "tags": []
   },
   "outputs": [
    {
     "data": {
      "text/plain": [
       "torch.Size([2, 3])"
      ]
     },
     "execution_count": 10,
     "metadata": {},
     "output_type": "execute_result"
    }
   ],
   "source": [
    "my_tensor.size()"
   ]
  },
  {
   "cell_type": "code",
   "execution_count": 11,
   "id": "4c486aae-ad1a-43c3-82b8-f390f6f3c391",
   "metadata": {
    "tags": []
   },
   "outputs": [
    {
     "data": {
      "text/plain": [
       "device(type='cuda', index=0)"
      ]
     },
     "execution_count": 11,
     "metadata": {},
     "output_type": "execute_result"
    }
   ],
   "source": [
    "my_tensor.device"
   ]
  },
  {
   "cell_type": "code",
   "execution_count": 12,
   "id": "e82b31b0-92c6-4c6b-9aaf-dc5087a3b5b9",
   "metadata": {
    "tags": []
   },
   "outputs": [
    {
     "data": {
      "text/plain": [
       "False"
      ]
     },
     "execution_count": 12,
     "metadata": {},
     "output_type": "execute_result"
    }
   ],
   "source": [
    "my_tensor.requires_grad"
   ]
  },
  {
   "cell_type": "markdown",
   "id": "51d25aa1-441a-44ab-a4e2-0778ec9b5e00",
   "metadata": {},
   "source": [
    "#### Other Initialization methods"
   ]
  },
  {
   "cell_type": "code",
   "execution_count": 13,
   "id": "2df23171-85ae-4fc0-b20e-6bd12fcba78f",
   "metadata": {
    "tags": []
   },
   "outputs": [
    {
     "data": {
      "text/plain": [
       "tensor([[0., 0., 0.],\n",
       "        [0., 0., 0.],\n",
       "        [0., 0., 0.]])"
      ]
     },
     "execution_count": 13,
     "metadata": {},
     "output_type": "execute_result"
    }
   ],
   "source": [
    "x = torch.empty(size=(3, 3))\n",
    "x"
   ]
  },
  {
   "cell_type": "code",
   "execution_count": 14,
   "id": "86390df3-e761-4ae8-a68e-792a505a2b8b",
   "metadata": {
    "tags": []
   },
   "outputs": [
    {
     "data": {
      "text/plain": [
       "tensor([[0., 0., 0.],\n",
       "        [0., 0., 0.],\n",
       "        [0., 0., 0.]])"
      ]
     },
     "execution_count": 14,
     "metadata": {},
     "output_type": "execute_result"
    }
   ],
   "source": [
    "x = torch.zeros(size=(3, 3))\n",
    "x"
   ]
  },
  {
   "cell_type": "code",
   "execution_count": 15,
   "id": "09edd585-afc0-46d3-b78f-be6d7b6c7a26",
   "metadata": {
    "tags": []
   },
   "outputs": [
    {
     "data": {
      "text/plain": [
       "tensor([[0.0278, 0.5732, 0.0767],\n",
       "        [0.3557, 0.3278, 0.5087],\n",
       "        [0.8761, 0.6114, 0.6192]])"
      ]
     },
     "execution_count": 15,
     "metadata": {},
     "output_type": "execute_result"
    }
   ],
   "source": [
    "x = torch.rand(size=(3,3))\n",
    "x"
   ]
  },
  {
   "cell_type": "code",
   "execution_count": 16,
   "id": "588e59cd-787e-468b-b8b3-058e74437d0c",
   "metadata": {
    "tags": []
   },
   "outputs": [
    {
     "data": {
      "text/plain": [
       "tensor([[1., 1., 1.],\n",
       "        [1., 1., 1.],\n",
       "        [1., 1., 1.]])"
      ]
     },
     "execution_count": 16,
     "metadata": {},
     "output_type": "execute_result"
    }
   ],
   "source": [
    "x = torch.ones(size=(3, 3))\n",
    "x"
   ]
  },
  {
   "cell_type": "code",
   "execution_count": 17,
   "id": "93fd9ca7-a69c-4b53-a308-aae39bfd917d",
   "metadata": {
    "tags": []
   },
   "outputs": [
    {
     "data": {
      "text/plain": [
       "tensor([[1., 0., 0., 0., 0.],\n",
       "        [0., 1., 0., 0., 0.],\n",
       "        [0., 0., 1., 0., 0.],\n",
       "        [0., 0., 0., 1., 0.],\n",
       "        [0., 0., 0., 0., 1.]])"
      ]
     },
     "execution_count": 17,
     "metadata": {},
     "output_type": "execute_result"
    }
   ],
   "source": [
    "x = torch.eye(n=5, m=5)\n",
    "x"
   ]
  },
  {
   "cell_type": "code",
   "execution_count": 18,
   "id": "d066fa8d-6dc1-4f44-a69e-90f25159120d",
   "metadata": {
    "tags": []
   },
   "outputs": [
    {
     "data": {
      "text/plain": [
       "tensor([0, 1, 2, 3, 4])"
      ]
     },
     "execution_count": 18,
     "metadata": {},
     "output_type": "execute_result"
    }
   ],
   "source": [
    "x = torch.arange(start=0, end=5, step=1)\n",
    "x"
   ]
  },
  {
   "cell_type": "code",
   "execution_count": 19,
   "id": "11cc0a8c-11e2-4568-b0f1-b1052b1a79b2",
   "metadata": {
    "tags": []
   },
   "outputs": [
    {
     "data": {
      "text/plain": [
       "tensor([0.1000, 0.2000, 0.3000, 0.4000, 0.5000, 0.6000, 0.7000, 0.8000, 0.9000,\n",
       "        1.0000])"
      ]
     },
     "execution_count": 19,
     "metadata": {},
     "output_type": "execute_result"
    }
   ],
   "source": [
    "x = torch.linspace(start=0.1, end=1, steps=10)\n",
    "x"
   ]
  },
  {
   "cell_type": "code",
   "execution_count": 27,
   "id": "8dfcab58-ee89-4d79-be7d-2e858191b5aa",
   "metadata": {
    "tags": []
   },
   "outputs": [
    {
     "data": {
      "text/plain": [
       "tensor([[ 0.5235, -1.0074,  0.2161,  0.8047, -0.7069, -0.5863,  0.7294,  0.6971,\n",
       "         -0.7459,  0.8345, -0.0601,  1.0095,  0.1910,  0.8906, -0.5545,  0.8581,\n",
       "          0.0873,  0.3824, -0.6972, -1.0286,  0.4586, -1.9627,  0.3688,  0.2100,\n",
       "         -0.2054,  0.0880,  1.2673,  1.4698,  0.8344, -1.1428,  0.9575, -0.7789,\n",
       "         -1.1317, -0.4523, -0.3377,  0.7852, -1.5205, -0.0631,  0.4785, -0.0458,\n",
       "          0.0649, -0.3370,  0.4719, -1.0636,  1.2990, -0.0533,  0.7648,  0.2287,\n",
       "          0.8971, -0.4464, -0.9218,  0.7989,  1.7578,  0.1400,  1.2771, -1.3965,\n",
       "          0.0699, -0.3154,  0.3907,  0.8592, -1.8432,  0.8057, -1.0276, -0.1206,\n",
       "         -2.0025, -0.4323,  0.4474, -0.3796, -0.8434,  0.0809, -0.4520,  0.5077,\n",
       "          0.5520,  0.5173, -0.5939,  0.3907,  0.0512,  0.2256, -0.1408,  0.7552,\n",
       "          0.9763,  1.8143, -1.0712, -1.3801,  1.5408,  0.1455, -1.2169,  0.9772,\n",
       "          0.6008,  1.1169, -1.5931, -0.3513,  0.1447, -1.0841,  0.9323,  0.5119,\n",
       "         -0.5857,  0.6364,  0.5245, -1.2046]])"
      ]
     },
     "execution_count": 27,
     "metadata": {},
     "output_type": "execute_result"
    }
   ],
   "source": [
    "x = torch.empty(size=(1, 100)).normal_(mean=0, std=1)\n",
    "x"
   ]
  },
  {
   "cell_type": "code",
   "execution_count": 28,
   "id": "141b13c1-c16f-43d3-ab14-a9f6a6313b03",
   "metadata": {
    "tags": []
   },
   "outputs": [
    {
     "data": {
      "text/plain": [
       "(array([ 3.,  4., 11.,  9., 12., 18., 16., 19.,  4.,  4.]),\n",
       " array([-2.00248814, -1.62080848, -1.23912883, -0.85744911, -0.47576943,\n",
       "        -0.09408975,  0.28758994,  0.66926962,  1.05094934,  1.43262899,\n",
       "         1.81430864]),\n",
       " <BarContainer object of 10 artists>)"
      ]
     },
     "execution_count": 28,
     "metadata": {},
     "output_type": "execute_result"
    },
    {
     "data": {
      "image/png": "[encoded data removed]",
      "text/plain": [
       "<Figure size 640x480 with 1 Axes>"
      ]
     },
     "metadata": {},
     "output_type": "display_data"
    }
   ],
   "source": [
    "plt.hist(x)"
   ]
  },
  {
   "cell_type": "code",
   "execution_count": 29,
   "id": "fca2f5f2-b378-42ad-b846-812d791b6359",
   "metadata": {
    "tags": []
   },
   "outputs": [
    {
     "data": {
      "text/plain": [
       "tensor([[0.3225, 0.4775, 0.0048, 0.3024, 0.3766, 0.7667, 0.4052, 0.0583, 0.4726,\n",
       "         0.0169, 0.3983, 0.8729, 0.9611, 0.3314, 0.8216, 0.3653, 0.6268, 0.5303,\n",
       "         0.8095, 0.4969, 0.9200, 0.2954, 0.1442, 0.0951, 0.0218, 0.3215, 0.9837,\n",
       "         0.0401, 0.6297, 0.3752, 0.0408, 0.6620, 0.2614, 0.0534, 0.2306, 0.9435,\n",
       "         0.9813, 0.8721, 0.9156, 0.0377, 0.2054, 0.2211, 0.9276, 0.8356, 0.6696,\n",
       "         0.7039, 0.6147, 0.4469, 0.9893, 0.8576, 0.5195, 0.6030, 0.0854, 0.1165,\n",
       "         0.0251, 0.4471, 0.7410, 0.0725, 0.5226, 0.9331, 0.7586, 0.8537, 0.4166,\n",
       "         0.2510, 0.9517, 0.8297, 0.1061, 0.3691, 0.4750, 0.8177, 0.2786, 0.2723,\n",
       "         0.8894, 0.8942, 0.8076, 0.5824, 0.5400, 0.3842, 0.0870, 0.6396, 0.9198,\n",
       "         0.4430, 0.9428, 0.9326, 0.4435, 0.0725, 0.5797, 0.7967, 0.0080, 0.6755,\n",
       "         0.2093, 0.4834, 0.9041, 0.3655, 0.8353, 0.2403, 0.4245, 0.2006, 0.3179,\n",
       "         0.8104]])"
      ]
     },
     "execution_count": 29,
     "metadata": {},
     "output_type": "execute_result"
    }
   ],
   "source": [
    "x = torch.empty(size=(1, 100)).uniform_(0, 1)\n",
    "x"
   ]
  },
  {
   "cell_type": "code",
   "execution_count": 30,
   "id": "d9338e11-0747-4d3d-9516-099c1bed27e7",
   "metadata": {
    "tags": []
   },
   "outputs": [
    {
     "data": {
      "text/plain": [
       "(array([15.,  4., 10., 12., 12.,  6.,  8.,  4., 14., 15.]),\n",
       " array([0.00483108, 0.10328043, 0.20172979, 0.30017915, 0.3986285 ,\n",
       "        0.49707785, 0.59552723, 0.69397658, 0.79242593, 0.89087528,\n",
       "        0.98932463]),\n",
       " <BarContainer object of 10 artists>)"
      ]
     },
     "execution_count": 30,
     "metadata": {},
     "output_type": "execute_result"
    },
    {
     "data": {
      "image/png": "[encoded data removed]",
      "text/plain": [
       "<Figure size 640x480 with 1 Axes>"
      ]
     },
     "metadata": {},
     "output_type": "display_data"
    }
   ],
   "source": [
    "plt.hist(x)"
   ]
  },
  {
   "cell_type": "code",
   "execution_count": 31,
   "id": "e8c1d3b2-303a-4d2e-bfa1-7de61134e6f1",
   "metadata": {
    "tags": []
   },
   "outputs": [
    {
     "data": {
      "text/plain": [
       "tensor([[1., 0., 0.],\n",
       "        [0., 1., 0.],\n",
       "        [0., 0., 1.]])"
      ]
     },
     "execution_count": 31,
     "metadata": {},
     "output_type": "execute_result"
    }
   ],
   "source": [
    "x = torch.diag(torch.ones(3))\n",
    "x"
   ]
  },
  {
   "cell_type": "markdown",
   "id": "15e34fe0-109d-4b6c-8418-1ee18f5d1774",
   "metadata": {
    "tags": []
   },
   "source": [
    "#### How to initialize and convert tensors to other types (int, float, double)"
   ]
  },
  {
   "cell_type": "code",
   "execution_count": 32,
   "id": "95147e43-7046-4b37-81a1-a89569534a4b",
   "metadata": {
    "tags": []
   },
   "outputs": [
    {
     "data": {
      "text/plain": [
       "tensor([0, 1, 2, 3])"
      ]
     },
     "execution_count": 32,
     "metadata": {},
     "output_type": "execute_result"
    }
   ],
   "source": [
    "tensor_arr = torch.arange(4)\n",
    "tensor_arr"
   ]
  },
  {
   "cell_type": "code",
   "execution_count": 33,
   "id": "48182ee4-9049-419a-9c52-9e51f8e0360b",
   "metadata": {
    "tags": []
   },
   "outputs": [
    {
     "data": {
      "text/plain": [
       "tensor([False,  True,  True,  True])"
      ]
     },
     "execution_count": 33,
     "metadata": {},
     "output_type": "execute_result"
    }
   ],
   "source": [
    "tensor_arr.bool() # boolean True / False"
   ]
  },
  {
   "cell_type": "code",
   "execution_count": 34,
   "id": "3c7140c8-2184-4ba3-9aac-bd39bb409244",
   "metadata": {
    "tags": []
   },
   "outputs": [
    {
     "data": {
      "text/plain": [
       "tensor([0, 1, 2, 3], dtype=torch.int16)"
      ]
     },
     "execution_count": 34,
     "metadata": {},
     "output_type": "execute_result"
    }
   ],
   "source": [
    "tensor_arr.short() # int16"
   ]
  },
  {
   "cell_type": "code",
   "execution_count": 35,
   "id": "5c6d0800-e9f9-4f37-9e8b-c413b4867e8c",
   "metadata": {
    "tags": []
   },
   "outputs": [
    {
     "data": {
      "text/plain": [
       "tensor([0, 1, 2, 3])"
      ]
     },
     "execution_count": 35,
     "metadata": {},
     "output_type": "execute_result"
    }
   ],
   "source": [
    "tensor_arr.long() # int64 (IMPORTANT)"
   ]
  },
  {
   "cell_type": "code",
   "execution_count": 36,
   "id": "0e096da9-a11e-4f95-9895-764d2bc6f39d",
   "metadata": {
    "tags": []
   },
   "outputs": [
    {
     "data": {
      "text/plain": [
       "tensor([0., 1., 2., 3.], dtype=torch.float16)"
      ]
     },
     "execution_count": 36,
     "metadata": {},
     "output_type": "execute_result"
    }
   ],
   "source": [
    "tensor_arr.half() # float16"
   ]
  },
  {
   "cell_type": "code",
   "execution_count": 37,
   "id": "63b159a7-82b8-46c4-9429-7aac6a5d84ea",
   "metadata": {
    "tags": []
   },
   "outputs": [
    {
     "data": {
      "text/plain": [
       "tensor([0., 1., 2., 3.])"
      ]
     },
     "execution_count": 37,
     "metadata": {},
     "output_type": "execute_result"
    }
   ],
   "source": [
    "tensor_arr.float() # float32 (IMPORTANT)"
   ]
  },
  {
   "cell_type": "code",
   "execution_count": 38,
   "id": "01096d26-9bbc-4a57-a03d-0c4bc4e92191",
   "metadata": {
    "tags": []
   },
   "outputs": [
    {
     "data": {
      "text/plain": [
       "tensor([0., 1., 2., 3.], dtype=torch.float64)"
      ]
     },
     "execution_count": 38,
     "metadata": {},
     "output_type": "execute_result"
    }
   ],
   "source": [
    "tensor_arr.double() # float64"
   ]
  },
  {
   "cell_type": "markdown",
   "id": "20410eff-6176-44a7-9f6e-6385d975335d",
   "metadata": {
    "tags": []
   },
   "source": [
    "#### Array to Tensors Conversion or Vice-Versa"
   ]
  },
  {
   "cell_type": "code",
   "execution_count": 39,
   "id": "282fed94-44d7-4e14-b675-9c5c4d0777d7",
   "metadata": {
    "tags": []
   },
   "outputs": [
    {
     "data": {
      "text/plain": [
       "array([[0., 0., 0., 0., 0.],\n",
       "       [0., 0., 0., 0., 0.],\n",
       "       [0., 0., 0., 0., 0.],\n",
       "       [0., 0., 0., 0., 0.],\n",
       "       [0., 0., 0., 0., 0.]])"
      ]
     },
     "execution_count": 39,
     "metadata": {},
     "output_type": "execute_result"
    }
   ],
   "source": [
    "arr = np.zeros((5, 5))\n",
    "arr"
   ]
  },
  {
   "cell_type": "code",
   "execution_count": 40,
   "id": "6b1a09c6-c8b2-44ee-9b0b-2ed51eac923b",
   "metadata": {
    "tags": []
   },
   "outputs": [
    {
     "data": {
      "text/plain": [
       "tensor([[0., 0., 0., 0., 0.],\n",
       "        [0., 0., 0., 0., 0.],\n",
       "        [0., 0., 0., 0., 0.],\n",
       "        [0., 0., 0., 0., 0.],\n",
       "        [0., 0., 0., 0., 0.]], dtype=torch.float64)"
      ]
     },
     "execution_count": 40,
     "metadata": {},
     "output_type": "execute_result"
    }
   ],
   "source": [
    "tensor_arr = torch.from_numpy(arr)\n",
    "tensor_arr"
   ]
  },
  {
   "cell_type": "code",
   "execution_count": 42,
   "id": "375da380-99d0-40cc-9cca-0d9f1ce0bf25",
   "metadata": {
    "tags": []
   },
   "outputs": [
    {
     "data": {
      "text/plain": [
       "array([[0., 0., 0., 0., 0.],\n",
       "       [0., 0., 0., 0., 0.],\n",
       "       [0., 0., 0., 0., 0.],\n",
       "       [0., 0., 0., 0., 0.],\n",
       "       [0., 0., 0., 0., 0.]])"
      ]
     },
     "execution_count": 42,
     "metadata": {},
     "output_type": "execute_result"
    }
   ],
   "source": [
    "arr_back = tensor_arr.numpy()\n",
    "arr_back"
   ]
  },
  {
   "cell_type": "markdown",
   "id": "9c87dc7f-4bb7-4ffd-b38d-47a52499281c",
   "metadata": {},
   "source": [
    "### Tensor Math and Comparison Operations"
   ]
  },
  {
   "cell_type": "code",
   "execution_count": 43,
   "id": "c9411356-d372-48fd-8df2-a350a856d628",
   "metadata": {
    "tags": []
   },
   "outputs": [],
   "source": [
    "x = torch.tensor([1, 2, 3])\n",
    "y = torch.tensor([9, 8, 7])"
   ]
  },
  {
   "cell_type": "code",
   "execution_count": 44,
   "id": "24bf7a98-4244-4327-9757-cab2dee203bb",
   "metadata": {
    "tags": []
   },
   "outputs": [
    {
     "data": {
      "text/plain": [
       "tensor([1, 2, 3])"
      ]
     },
     "execution_count": 44,
     "metadata": {},
     "output_type": "execute_result"
    }
   ],
   "source": [
    "x"
   ]
  },
  {
   "cell_type": "code",
   "execution_count": 45,
   "id": "7dcb0c5e-361e-4a15-bd8d-5520d8da55b7",
   "metadata": {
    "tags": []
   },
   "outputs": [
    {
     "data": {
      "text/plain": [
       "tensor([9, 8, 7])"
      ]
     },
     "execution_count": 45,
     "metadata": {},
     "output_type": "execute_result"
    }
   ],
   "source": [
    "y"
   ]
  },
  {
   "cell_type": "markdown",
   "id": "f6166235-6bde-4d05-939a-8f5b7ddf591c",
   "metadata": {},
   "source": [
    "#### Addition"
   ]
  },
  {
   "cell_type": "code",
   "execution_count": 46,
   "id": "3082d604-7f33-4e54-a053-8770b9941684",
   "metadata": {
    "tags": []
   },
   "outputs": [
    {
     "data": {
      "text/plain": [
       "tensor([0., 0., 0.])"
      ]
     },
     "execution_count": 46,
     "metadata": {},
     "output_type": "execute_result"
    }
   ],
   "source": [
    "z1 = torch.empty(3)\n",
    "z1"
   ]
  },
  {
   "cell_type": "code",
   "execution_count": 47,
   "id": "9eec2a3e-e512-48ab-82fe-5c373446db69",
   "metadata": {
    "tags": []
   },
   "outputs": [
    {
     "data": {
      "text/plain": [
       "tensor([10., 10., 10.])"
      ]
     },
     "execution_count": 47,
     "metadata": {},
     "output_type": "execute_result"
    }
   ],
   "source": [
    "torch.add(x, y, out=z1)"
   ]
  },
  {
   "cell_type": "code",
   "execution_count": 48,
   "id": "87c82e75-0de8-409f-af2e-048abb0b22ed",
   "metadata": {
    "tags": []
   },
   "outputs": [
    {
     "data": {
      "text/plain": [
       "tensor([10, 10, 10])"
      ]
     },
     "execution_count": 48,
     "metadata": {},
     "output_type": "execute_result"
    }
   ],
   "source": [
    "z2 = torch.add(x, y)\n",
    "z2"
   ]
  },
  {
   "cell_type": "code",
   "execution_count": 49,
   "id": "f98a6fa6-ac03-4a88-a72a-f376625d0a78",
   "metadata": {
    "tags": []
   },
   "outputs": [
    {
     "data": {
      "text/plain": [
       "tensor([10, 10, 10])"
      ]
     },
     "execution_count": 49,
     "metadata": {},
     "output_type": "execute_result"
    }
   ],
   "source": [
    "z = x + y\n",
    "z"
   ]
  },
  {
   "cell_type": "markdown",
   "id": "7907e60a-7940-4062-be02-67eb0b32a0ff",
   "metadata": {},
   "source": [
    "#### Subtraction"
   ]
  },
  {
   "cell_type": "code",
   "execution_count": 50,
   "id": "41cd2d2d-6613-4abf-9d92-8b932957a110",
   "metadata": {
    "tags": []
   },
   "outputs": [
    {
     "data": {
      "text/plain": [
       "tensor([-8, -6, -4])"
      ]
     },
     "execution_count": 50,
     "metadata": {},
     "output_type": "execute_result"
    }
   ],
   "source": [
    "z = x - y\n",
    "z"
   ]
  },
  {
   "cell_type": "markdown",
   "id": "21342ab4-9ab5-4729-a3e2-19130adaeb83",
   "metadata": {
    "tags": []
   },
   "source": [
    "#### Division"
   ]
  },
  {
   "cell_type": "code",
   "execution_count": 55,
   "id": "80000ca5-b56a-402e-87ed-8cb47d6dfc0d",
   "metadata": {
    "tags": []
   },
   "outputs": [
    {
     "data": {
      "text/plain": [
       "tensor([0.1111, 0.2500, 0.4286])"
      ]
     },
     "execution_count": 55,
     "metadata": {},
     "output_type": "execute_result"
    }
   ],
   "source": [
    "z = torch.true_divide(x, y) # element wise divison\n",
    "z"
   ]
  },
  {
   "cell_type": "markdown",
   "id": "89989c6d-4b9e-4732-b058-6b427e4864fa",
   "metadata": {
    "tags": []
   },
   "source": [
    "#### Inplace Operations"
   ]
  },
  {
   "cell_type": "code",
   "execution_count": 57,
   "id": "bdccfb27-b544-435c-8f14-db7d457b5703",
   "metadata": {
    "tags": []
   },
   "outputs": [
    {
     "data": {
      "text/plain": [
       "tensor([0., 0., 0.])"
      ]
     },
     "execution_count": 57,
     "metadata": {},
     "output_type": "execute_result"
    }
   ],
   "source": [
    "t = torch.zeros(3)\n",
    "t"
   ]
  },
  {
   "cell_type": "code",
   "execution_count": 58,
   "id": "4c37de06-0406-4dd0-bff3-b904219f650b",
   "metadata": {
    "tags": []
   },
   "outputs": [
    {
     "data": {
      "text/plain": [
       "tensor([1., 2., 3.])"
      ]
     },
     "execution_count": 58,
     "metadata": {},
     "output_type": "execute_result"
    }
   ],
   "source": [
    "t.add_(x)"
   ]
  },
  {
   "cell_type": "code",
   "execution_count": 59,
   "id": "1d269494-68a6-44eb-b47f-d6d8f5edb467",
   "metadata": {
    "tags": []
   },
   "outputs": [
    {
     "data": {
      "text/plain": [
       "tensor([1., 2., 3.])"
      ]
     },
     "execution_count": 59,
     "metadata": {},
     "output_type": "execute_result"
    }
   ],
   "source": [
    "t"
   ]
  },
  {
   "cell_type": "code",
   "execution_count": 60,
   "id": "270e07ea-acfc-4838-b6c0-310c89ac620d",
   "metadata": {
    "tags": []
   },
   "outputs": [],
   "source": [
    "t += x # t = t + x"
   ]
  },
  {
   "cell_type": "code",
   "execution_count": 61,
   "id": "7c5fa81d-56b6-4c6f-8e53-1da3e9cc97e7",
   "metadata": {
    "tags": []
   },
   "outputs": [
    {
     "data": {
      "text/plain": [
       "tensor([2., 4., 6.])"
      ]
     },
     "execution_count": 61,
     "metadata": {},
     "output_type": "execute_result"
    }
   ],
   "source": [
    "t"
   ]
  },
  {
   "cell_type": "markdown",
   "id": "3bff28f7-3ec3-4076-b0fe-dbb6248d8166",
   "metadata": {},
   "source": [
    "#### Exponentiation"
   ]
  },
  {
   "cell_type": "code",
   "execution_count": 62,
   "id": "5789be88-36d7-4f07-a1da-d02cce9429a4",
   "metadata": {
    "tags": []
   },
   "outputs": [
    {
     "data": {
      "text/plain": [
       "tensor([1, 4, 9])"
      ]
     },
     "execution_count": 62,
     "metadata": {},
     "output_type": "execute_result"
    }
   ],
   "source": [
    "z = x.pow(2)\n",
    "z"
   ]
  },
  {
   "cell_type": "code",
   "execution_count": 63,
   "id": "ee8386d9-8c47-41cf-b595-05089f85dccb",
   "metadata": {
    "tags": []
   },
   "outputs": [
    {
     "data": {
      "text/plain": [
       "tensor([1, 4, 9])"
      ]
     },
     "execution_count": 63,
     "metadata": {},
     "output_type": "execute_result"
    }
   ],
   "source": [
    "z = x ** 2\n",
    "z"
   ]
  },
  {
   "cell_type": "markdown",
   "id": "fa8e98b1-3ed9-4d8b-869f-cf7108e788d3",
   "metadata": {},
   "source": [
    "#### Simple Comparison"
   ]
  },
  {
   "cell_type": "code",
   "execution_count": 64,
   "id": "5e3bdd93-7a61-4620-b339-3a1dafdd513c",
   "metadata": {
    "tags": []
   },
   "outputs": [
    {
     "data": {
      "text/plain": [
       "tensor([True, True, True])"
      ]
     },
     "execution_count": 64,
     "metadata": {},
     "output_type": "execute_result"
    }
   ],
   "source": [
    "z = x > 0\n",
    "z"
   ]
  },
  {
   "cell_type": "code",
   "execution_count": 65,
   "id": "22964f75-b068-4cff-b1b1-b5cee4548834",
   "metadata": {
    "tags": []
   },
   "outputs": [
    {
     "data": {
      "text/plain": [
       "tensor([False, False, False])"
      ]
     },
     "execution_count": 65,
     "metadata": {},
     "output_type": "execute_result"
    }
   ],
   "source": [
    "z = x < 0\n",
    "z"
   ]
  },
  {
   "cell_type": "markdown",
   "id": "45cbb0e7-1521-4cbe-8fc5-480f94619fd3",
   "metadata": {},
   "source": [
    "#### Matrix Multiplication"
   ]
  },
  {
   "cell_type": "code",
   "execution_count": 66,
   "id": "9368c3f3-e3f0-4f31-9c40-155be03e56d9",
   "metadata": {
    "tags": []
   },
   "outputs": [
    {
     "data": {
      "text/plain": [
       "tensor([[0.7161, 0.3320, 0.5989, 0.8369, 0.3711],\n",
       "        [0.5413, 0.7734, 0.9734, 0.3537, 0.7345]])"
      ]
     },
     "execution_count": 66,
     "metadata": {},
     "output_type": "execute_result"
    }
   ],
   "source": [
    "x1 = torch.rand((2, 5))\n",
    "x1"
   ]
  },
  {
   "cell_type": "code",
   "execution_count": 67,
   "id": "90f1d3bf-44af-4976-a23c-8fa40a1cb076",
   "metadata": {
    "tags": []
   },
   "outputs": [
    {
     "data": {
      "text/plain": [
       "tensor([[0.5455, 0.3634, 0.4647],\n",
       "        [0.2860, 0.1103, 0.0207],\n",
       "        [0.3248, 0.7541, 0.0979],\n",
       "        [0.0195, 0.7346, 0.2716],\n",
       "        [0.4025, 0.4951, 0.4446]])"
      ]
     },
     "execution_count": 67,
     "metadata": {},
     "output_type": "execute_result"
    }
   ],
   "source": [
    "x2 = torch.rand((5, 3))\n",
    "x2"
   ]
  },
  {
   "cell_type": "code",
   "execution_count": 69,
   "id": "5c8b2a40-81df-4fdf-8f99-d66906c94391",
   "metadata": {
    "tags": []
   },
   "outputs": [
    {
     "data": {
      "text/plain": [
       "tensor([[0.8459, 1.5471, 0.7906],\n",
       "        [1.1352, 1.6395, 0.7854]])"
      ]
     },
     "execution_count": 69,
     "metadata": {},
     "output_type": "execute_result"
    }
   ],
   "source": [
    "torch.mm(x1, x2)"
   ]
  },
  {
   "cell_type": "code",
   "execution_count": 70,
   "id": "d5833e8d-6e9a-40da-ae6e-c13a508b3459",
   "metadata": {
    "tags": []
   },
   "outputs": [
    {
     "data": {
      "text/plain": [
       "tensor([[0.8459, 1.5471, 0.7906],\n",
       "        [1.1352, 1.6395, 0.7854]])"
      ]
     },
     "execution_count": 70,
     "metadata": {},
     "output_type": "execute_result"
    }
   ],
   "source": [
    "x3 = torch.mm(x1, x2)\n",
    "x3"
   ]
  },
  {
   "cell_type": "code",
   "execution_count": 71,
   "id": "e633d35d-968a-43aa-b7d4-19a9745b7e82",
   "metadata": {
    "tags": []
   },
   "outputs": [
    {
     "data": {
      "text/plain": [
       "tensor([[0.8459, 1.5471, 0.7906],\n",
       "        [1.1352, 1.6395, 0.7854]])"
      ]
     },
     "execution_count": 71,
     "metadata": {},
     "output_type": "execute_result"
    }
   ],
   "source": [
    "x3 = x1.mm(x2)\n",
    "x3"
   ]
  },
  {
   "cell_type": "markdown",
   "id": "9fa197b1-53cc-4beb-b8e1-82458ece1241",
   "metadata": {
    "tags": []
   },
   "source": [
    "#### Matrix Exponentiation"
   ]
  },
  {
   "cell_type": "code",
   "execution_count": 75,
   "id": "00ba442f-b8fb-4672-b276-651e6f76b937",
   "metadata": {
    "tags": []
   },
   "outputs": [
    {
     "data": {
      "text/plain": [
       "tensor([[0.4557, 0.4907, 0.8509, 0.0485, 0.1285],\n",
       "        [0.2037, 0.9823, 0.9573, 0.4258, 0.3764],\n",
       "        [0.0620, 0.9841, 0.8401, 0.3746, 0.3821],\n",
       "        [0.9749, 0.0142, 0.4502, 0.4659, 0.7755],\n",
       "        [0.8313, 0.6045, 0.4829, 0.4019, 0.4362]])"
      ]
     },
     "execution_count": 75,
     "metadata": {},
     "output_type": "execute_result"
    }
   ],
   "source": [
    "matrix_exp = torch.rand(5, 5)\n",
    "matrix_exp"
   ]
  },
  {
   "cell_type": "code",
   "execution_count": 77,
   "id": "c3e4f77b-e0cd-439a-adb8-6d5743a7101d",
   "metadata": {
    "tags": []
   },
   "outputs": [
    {
     "data": {
      "text/plain": [
       "tensor([[1.8262, 3.8843, 3.9820, 1.8925, 2.0820],\n",
       "        [3.2427, 5.7613, 6.1070, 2.8988, 3.2868],\n",
       "        [2.9855, 5.2319, 5.5551, 2.6539, 3.0141],\n",
       "        [2.6816, 4.5516, 5.0285, 2.1058, 2.4425],\n",
       "        [2.7398, 5.0260, 5.3881, 2.3885, 2.7163]])"
      ]
     },
     "execution_count": 77,
     "metadata": {},
     "output_type": "execute_result"
    }
   ],
   "source": [
    "matrix_exp.matrix_power(3)"
   ]
  },
  {
   "cell_type": "markdown",
   "id": "cf05c83c-18f1-4cff-9d3c-81fd080a8c51",
   "metadata": {},
   "source": [
    "#### Element wise Multiplication"
   ]
  },
  {
   "cell_type": "code",
   "execution_count": 78,
   "id": "e331bbd3-d8f3-4e82-9f1e-09ee79e0bbfc",
   "metadata": {
    "tags": []
   },
   "outputs": [
    {
     "data": {
      "text/plain": [
       "tensor([ 9, 16, 21])"
      ]
     },
     "execution_count": 78,
     "metadata": {},
     "output_type": "execute_result"
    }
   ],
   "source": [
    "z = x*y\n",
    "z"
   ]
  },
  {
   "cell_type": "markdown",
   "id": "c691122c-d50e-440a-8fab-ba3ebd7b09dc",
   "metadata": {},
   "source": [
    "#### Dot Product"
   ]
  },
  {
   "cell_type": "code",
   "execution_count": 80,
   "id": "f007f991-c3c6-49c9-8cd8-8478f1d6e434",
   "metadata": {
    "tags": []
   },
   "outputs": [
    {
     "data": {
      "text/plain": [
       "tensor(46)"
      ]
     },
     "execution_count": 80,
     "metadata": {},
     "output_type": "execute_result"
    }
   ],
   "source": [
    "z = torch.dot(x, y)\n",
    "z"
   ]
  },
  {
   "cell_type": "markdown",
   "id": "97c000f8-fa2e-4f00-b911-c9cb26bf52ee",
   "metadata": {},
   "source": [
    "#### Batch Matrix Multiplication"
   ]
  },
  {
   "cell_type": "code",
   "execution_count": 81,
   "id": "68e05509-559e-4e87-88ea-38bfece65073",
   "metadata": {
    "tags": []
   },
   "outputs": [],
   "source": [
    "batch = 32\n",
    "n = 10\n",
    "m = 20\n",
    "p = 30"
   ]
  },
  {
   "cell_type": "code",
   "execution_count": 82,
   "id": "29970079-7d49-4e4f-8984-48fc9ffac0a9",
   "metadata": {
    "tags": []
   },
   "outputs": [
    {
     "data": {
      "text/plain": [
       "tensor([[[0.6076, 0.3998, 0.3593,  ..., 0.4609, 0.6348, 0.6116],\n",
       "         [0.8478, 0.8895, 0.2383,  ..., 0.0349, 0.6072, 0.8698],\n",
       "         [0.7002, 0.9856, 0.7260,  ..., 0.1057, 0.5276, 0.2711],\n",
       "         ...,\n",
       "         [0.3822, 0.4297, 0.7776,  ..., 0.5809, 0.6003, 0.2608],\n",
       "         [0.8605, 0.9352, 0.7250,  ..., 0.8217, 0.2316, 0.7919],\n",
       "         [0.6689, 0.0586, 0.6474,  ..., 0.4253, 0.9216, 0.1520]],\n",
       "\n",
       "        [[0.0991, 0.0096, 0.2006,  ..., 0.8704, 0.9908, 0.6964],\n",
       "         [0.9663, 0.3535, 0.6613,  ..., 0.0061, 0.0079, 0.8987],\n",
       "         [0.3210, 0.2794, 0.3996,  ..., 0.4973, 0.5056, 0.9486],\n",
       "         ...,\n",
       "         [0.3854, 0.1580, 0.4149,  ..., 0.2618, 0.6578, 0.8267],\n",
       "         [0.7389, 0.9679, 0.0452,  ..., 0.4758, 0.1173, 0.6689],\n",
       "         [0.1910, 0.5867, 0.5587,  ..., 0.5193, 0.3502, 0.6063]],\n",
       "\n",
       "        [[0.8151, 0.5867, 0.0639,  ..., 0.4230, 0.5485, 0.1684],\n",
       "         [0.1757, 0.7411, 0.4762,  ..., 0.5566, 0.4814, 0.7947],\n",
       "         [0.9683, 0.2393, 0.9655,  ..., 0.5473, 0.0858, 0.1140],\n",
       "         ...,\n",
       "         [0.4288, 0.2673, 0.2189,  ..., 0.8328, 0.0197, 0.2799],\n",
       "         [0.4195, 0.4535, 0.1673,  ..., 0.7166, 0.7692, 0.3894],\n",
       "         [0.5077, 0.2932, 0.7358,  ..., 0.5120, 0.9736, 0.2940]],\n",
       "\n",
       "        ...,\n",
       "\n",
       "        [[0.7515, 0.0277, 0.1443,  ..., 0.3157, 0.5603, 0.6312],\n",
       "         [0.4748, 0.0034, 0.7682,  ..., 0.1687, 0.7939, 0.8319],\n",
       "         [0.6502, 0.8827, 0.4877,  ..., 0.0614, 0.1849, 0.4431],\n",
       "         ...,\n",
       "         [0.6675, 0.1470, 0.9926,  ..., 0.3712, 0.8206, 0.8662],\n",
       "         [0.3299, 0.6659, 0.0527,  ..., 0.7204, 0.8563, 0.8911],\n",
       "         [0.9381, 0.6205, 0.1640,  ..., 0.2325, 0.0112, 0.5999]],\n",
       "\n",
       "        [[0.4665, 0.4524, 0.4051,  ..., 0.2614, 0.6567, 0.5499],\n",
       "         [0.2114, 0.5150, 0.0161,  ..., 0.9726, 0.7259, 0.0925],\n",
       "         [0.9263, 0.8795, 0.9117,  ..., 0.3875, 0.1519, 0.2354],\n",
       "         ...,\n",
       "         [0.0846, 0.4384, 0.5644,  ..., 0.1537, 0.7720, 0.8071],\n",
       "         [0.8566, 0.4673, 0.1941,  ..., 0.1081, 0.3853, 0.7066],\n",
       "         [0.6553, 0.5913, 0.5735,  ..., 0.4774, 0.4553, 0.0771]],\n",
       "\n",
       "        [[0.5558, 0.4767, 0.7130,  ..., 0.3269, 0.2065, 0.6172],\n",
       "         [0.1910, 0.1564, 0.4132,  ..., 0.8195, 0.3547, 0.7014],\n",
       "         [0.7973, 0.0612, 0.9382,  ..., 0.9064, 0.5526, 0.4430],\n",
       "         ...,\n",
       "         [0.3548, 0.6113, 0.3058,  ..., 0.4529, 0.5274, 0.4037],\n",
       "         [0.0945, 0.5500, 0.7428,  ..., 0.7486, 0.6008, 0.1882],\n",
       "         [0.5515, 0.9944, 0.2092,  ..., 0.9043, 0.8771, 0.0774]]])"
      ]
     },
     "execution_count": 82,
     "metadata": {},
     "output_type": "execute_result"
    }
   ],
   "source": [
    "tensor1 = torch.rand(batch, n, m)\n",
    "tensor1"
   ]
  },
  {
   "cell_type": "code",
   "execution_count": 83,
   "id": "4cbefcf3-7617-4fc9-b064-90b4e70b68f5",
   "metadata": {
    "tags": []
   },
   "outputs": [
    {
     "data": {
      "text/plain": [
       "torch.Size([32, 10, 20])"
      ]
     },
     "execution_count": 83,
     "metadata": {},
     "output_type": "execute_result"
    }
   ],
   "source": [
    "tensor1.shape"
   ]
  },
  {
   "cell_type": "code",
   "execution_count": 84,
   "id": "7d06327c-4c64-4845-aafa-151b3433e7c2",
   "metadata": {
    "tags": []
   },
   "outputs": [
    {
     "data": {
      "text/plain": [
       "tensor([[[0.5167, 0.8966, 0.3686,  ..., 0.2724, 0.0919, 0.2332],\n",
       "         [0.1164, 0.7485, 0.2761,  ..., 0.5039, 0.2504, 0.0321],\n",
       "         [0.4519, 0.4933, 0.5617,  ..., 0.7120, 0.8120, 0.3968],\n",
       "         ...,\n",
       "         [0.3795, 0.8533, 0.4785,  ..., 0.1078, 0.2507, 0.7506],\n",
       "         [0.8304, 0.6651, 0.5854,  ..., 0.1953, 0.0647, 0.3761],\n",
       "         [0.5388, 0.3117, 0.8456,  ..., 0.0410, 0.4224, 0.8494]],\n",
       "\n",
       "        [[0.0310, 0.4540, 0.7830,  ..., 0.8383, 0.2600, 0.0251],\n",
       "         [0.1195, 0.0683, 0.8144,  ..., 0.3842, 0.7656, 0.6155],\n",
       "         [0.2843, 0.2443, 0.8292,  ..., 0.2090, 0.3047, 0.2054],\n",
       "         ...,\n",
       "         [0.2980, 0.5712, 0.3106,  ..., 0.6878, 0.0063, 0.4184],\n",
       "         [0.4591, 0.2341, 0.3808,  ..., 0.7227, 0.4302, 0.8157],\n",
       "         [0.8815, 0.8988, 0.4492,  ..., 0.0957, 0.9085, 0.8348]],\n",
       "\n",
       "        [[0.8142, 0.2665, 0.8625,  ..., 0.0524, 0.6212, 0.1054],\n",
       "         [0.0072, 0.5695, 0.9182,  ..., 0.3484, 0.8331, 0.2481],\n",
       "         [0.6033, 0.2895, 0.6696,  ..., 0.9115, 0.8965, 0.8069],\n",
       "         ...,\n",
       "         [0.3362, 0.7554, 0.4570,  ..., 0.8817, 0.0877, 0.3545],\n",
       "         [0.1861, 0.4394, 0.3384,  ..., 0.2456, 0.8957, 0.0600],\n",
       "         [0.5854, 0.0079, 0.9545,  ..., 0.3117, 0.7980, 0.0826]],\n",
       "\n",
       "        ...,\n",
       "\n",
       "        [[0.4924, 0.5131, 0.7375,  ..., 0.2377, 0.4127, 0.4581],\n",
       "         [0.8899, 0.8476, 0.7348,  ..., 0.2391, 0.5209, 0.3535],\n",
       "         [0.1828, 0.6854, 0.0047,  ..., 0.6651, 0.1679, 0.4664],\n",
       "         ...,\n",
       "         [0.1137, 0.8702, 0.2704,  ..., 0.6725, 0.9341, 0.4346],\n",
       "         [0.1088, 0.5827, 0.9987,  ..., 0.9347, 0.3783, 0.9102],\n",
       "         [0.0256, 0.2896, 0.6220,  ..., 0.6920, 0.2703, 0.6424]],\n",
       "\n",
       "        [[0.7844, 0.3255, 0.3901,  ..., 0.0671, 0.0609, 0.4430],\n",
       "         [0.1984, 0.8331, 0.8367,  ..., 0.7985, 0.5500, 0.2948],\n",
       "         [0.4702, 0.2205, 0.5894,  ..., 0.1885, 0.5156, 0.0741],\n",
       "         ...,\n",
       "         [0.0875, 0.0528, 0.6850,  ..., 0.3194, 0.2475, 0.6550],\n",
       "         [0.6796, 0.3517, 0.5582,  ..., 0.1484, 0.1616, 0.1825],\n",
       "         [0.6517, 0.3015, 0.5987,  ..., 0.2158, 0.2901, 0.8288]],\n",
       "\n",
       "        [[0.3886, 0.5691, 0.4262,  ..., 0.1427, 0.9741, 0.9766],\n",
       "         [0.4343, 0.0611, 0.9257,  ..., 0.8765, 0.3036, 0.5058],\n",
       "         [0.4754, 0.7704, 0.1486,  ..., 0.5057, 0.5831, 0.2987],\n",
       "         ...,\n",
       "         [0.9758, 0.3558, 0.0200,  ..., 0.7866, 0.2513, 0.7581],\n",
       "         [0.2700, 0.7862, 0.5090,  ..., 0.4947, 0.2661, 0.9546],\n",
       "         [0.8819, 0.2427, 0.3667,  ..., 0.5541, 0.4459, 0.6599]]])"
      ]
     },
     "execution_count": 84,
     "metadata": {},
     "output_type": "execute_result"
    }
   ],
   "source": [
    "tensor2 = torch.rand(batch, m, p)\n",
    "tensor2"
   ]
  },
  {
   "cell_type": "code",
   "execution_count": 85,
   "id": "7b951e93-aaff-4844-90ba-91acbb5a110e",
   "metadata": {
    "tags": []
   },
   "outputs": [
    {
     "data": {
      "text/plain": [
       "torch.Size([32, 20, 30])"
      ]
     },
     "execution_count": 85,
     "metadata": {},
     "output_type": "execute_result"
    }
   ],
   "source": [
    "tensor2.shape"
   ]
  },
  {
   "cell_type": "code",
   "execution_count": 86,
   "id": "84df9ecb-69bc-4929-bee0-351e351400b8",
   "metadata": {
    "tags": []
   },
   "outputs": [
    {
     "data": {
      "text/plain": [
       "tensor([[[4.7275, 6.1499, 4.7876,  ..., 4.4336, 5.1738, 5.6134],\n",
       "         [4.0979, 6.0223, 4.6831,  ..., 4.7316, 5.2151, 4.0655],\n",
       "         [4.4129, 6.1840, 4.4149,  ..., 5.7041, 5.2394, 4.9541],\n",
       "         ...,\n",
       "         [4.0367, 4.9236, 4.4852,  ..., 3.7971, 3.8813, 4.0854],\n",
       "         [5.4901, 7.4885, 5.7675,  ..., 5.9476, 6.2741, 6.2594],\n",
       "         [5.7550, 5.8188, 4.9206,  ..., 5.6058, 5.4208, 5.0343]],\n",
       "\n",
       "        [[4.4205, 6.0510, 5.3620,  ..., 7.0772, 4.6565, 5.0221],\n",
       "         [3.9789, 5.4718, 5.4837,  ..., 6.3888, 5.2970, 4.8707],\n",
       "         [4.0907, 5.7785, 4.8117,  ..., 6.7221, 4.9031, 5.3608],\n",
       "         ...,\n",
       "         [4.2746, 5.0941, 5.4565,  ..., 6.1746, 4.1659, 4.2686],\n",
       "         [3.8113, 4.5778, 4.9974,  ..., 5.9254, 4.9492, 4.4377],\n",
       "         [2.9698, 4.4122, 3.8250,  ..., 5.2077, 3.5169, 3.9238]],\n",
       "\n",
       "        [[5.1275, 4.8154, 6.2710,  ..., 4.5779, 5.4776, 3.7100],\n",
       "         [5.4067, 5.0413, 6.7176,  ..., 6.0490, 5.3568, 4.3700],\n",
       "         [5.4250, 4.6774, 5.6373,  ..., 5.6139, 5.6277, 4.2465],\n",
       "         ...,\n",
       "         [3.8473, 4.2471, 4.9102,  ..., 4.2859, 3.3864, 3.5725],\n",
       "         [3.7594, 4.1039, 5.3717,  ..., 3.4660, 4.3912, 2.7655],\n",
       "         [5.5724, 5.9752, 6.9261,  ..., 6.0274, 5.6642, 5.0171]],\n",
       "\n",
       "        ...,\n",
       "\n",
       "        [[4.2728, 4.5041, 5.0172,  ..., 5.0438, 5.3324, 3.9011],\n",
       "         [3.3250, 4.0906, 4.1329,  ..., 6.1986, 4.3131, 5.1613],\n",
       "         [4.2633, 4.1618, 4.4861,  ..., 4.4373, 4.1208, 4.3528],\n",
       "         ...,\n",
       "         [5.1320, 6.0250, 6.0116,  ..., 7.0587, 6.0675, 5.6807],\n",
       "         [4.2701, 5.7571, 6.0205,  ..., 5.6449, 5.4674, 5.0998],\n",
       "         [4.4946, 5.3642, 5.0475,  ..., 4.8828, 4.9459, 4.9747]],\n",
       "\n",
       "        [[3.8205, 3.7262, 5.2623,  ..., 4.6718, 4.5233, 4.2818],\n",
       "         [4.0805, 3.6406, 5.0804,  ..., 6.0926, 4.1035, 4.2060],\n",
       "         [4.3165, 3.6927, 5.0357,  ..., 4.9738, 3.2056, 3.8410],\n",
       "         ...,\n",
       "         [4.2018, 4.1671, 5.2506,  ..., 4.5884, 3.2325, 4.1380],\n",
       "         [4.4101, 4.0928, 5.5133,  ..., 5.6387, 4.0864, 5.0090],\n",
       "         [4.8152, 4.4234, 6.1984,  ..., 6.5488, 5.6479, 5.0232]],\n",
       "\n",
       "        [[3.3511, 3.9902, 3.4926,  ..., 5.0866, 4.1148, 4.9460],\n",
       "         [4.3992, 5.3560, 4.0361,  ..., 6.3750, 5.1967, 6.1836],\n",
       "         [3.8338, 5.0004, 2.8195,  ..., 5.0055, 4.5062, 5.2118],\n",
       "         ...,\n",
       "         [4.2702, 5.0368, 4.6231,  ..., 5.4668, 5.0856, 5.1568],\n",
       "         [4.0328, 4.4561, 4.4583,  ..., 6.5867, 4.9853, 6.4360],\n",
       "         [4.4455, 5.0323, 5.1472,  ..., 6.6132, 5.3178, 6.6595]]])"
      ]
     },
     "execution_count": 86,
     "metadata": {},
     "output_type": "execute_result"
    }
   ],
   "source": [
    "out_bmm = torch.bmm(tensor1, tensor2) # (batch, n, p)\n",
    "out_bmm"
   ]
  },
  {
   "cell_type": "code",
   "execution_count": 87,
   "id": "06cacb8c-8449-4365-9b61-3c142681fab1",
   "metadata": {
    "tags": []
   },
   "outputs": [
    {
     "data": {
      "text/plain": [
       "torch.Size([32, 10, 30])"
      ]
     },
     "execution_count": 87,
     "metadata": {},
     "output_type": "execute_result"
    }
   ],
   "source": [
    "out_bmm.shape"
   ]
  },
  {
   "cell_type": "markdown",
   "id": "b21005c7-c379-48b4-b702-840537a810a4",
   "metadata": {},
   "source": [
    "#### Examples of Broadcasting"
   ]
  },
  {
   "cell_type": "code",
   "execution_count": 88,
   "id": "57d5c9ad-eabb-417c-88d5-8b4b652f9d36",
   "metadata": {
    "tags": []
   },
   "outputs": [],
   "source": [
    "x1 = torch.rand(5, 5)\n",
    "x2 = torch.rand(1, 5)"
   ]
  },
  {
   "cell_type": "code",
   "execution_count": 89,
   "id": "20c0976e-84cb-4619-83d3-22a8fcb8890b",
   "metadata": {
    "tags": []
   },
   "outputs": [
    {
     "data": {
      "text/plain": [
       "tensor([[0.0302, 0.1287, 0.0168, 0.2232, 0.3996],\n",
       "        [0.4942, 0.4768, 0.9146, 0.7643, 0.0851],\n",
       "        [0.7352, 0.9038, 0.1105, 0.3963, 0.9808],\n",
       "        [0.9158, 0.2648, 0.5633, 0.6505, 0.4085],\n",
       "        [0.1156, 0.6683, 0.7263, 0.2560, 0.2721]])"
      ]
     },
     "execution_count": 89,
     "metadata": {},
     "output_type": "execute_result"
    }
   ],
   "source": [
    "x1"
   ]
  },
  {
   "cell_type": "code",
   "execution_count": 90,
   "id": "f1512b7e-af41-4f47-afbe-76c454fcb944",
   "metadata": {
    "tags": []
   },
   "outputs": [
    {
     "data": {
      "text/plain": [
       "tensor([[0.0603, 0.9580, 0.0250, 0.5256, 0.9188]])"
      ]
     },
     "execution_count": 90,
     "metadata": {},
     "output_type": "execute_result"
    }
   ],
   "source": [
    "x2"
   ]
  },
  {
   "cell_type": "code",
   "execution_count": 95,
   "id": "a00abe36-e32d-41de-9267-084cfb785f0a",
   "metadata": {
    "tags": []
   },
   "outputs": [
    {
     "data": {
      "text/plain": [
       "tensor([[-0.0300, -0.8293, -0.0082, -0.3024, -0.5191],\n",
       "        [ 0.4339, -0.4811,  0.8896,  0.2387, -0.8337],\n",
       "        [ 0.6750, -0.0542,  0.0855, -0.1293,  0.0620],\n",
       "        [ 0.8555, -0.6932,  0.5383,  0.1249, -0.5102],\n",
       "        [ 0.0553, -0.2897,  0.7013, -0.2696, -0.6467]])"
      ]
     },
     "execution_count": 95,
     "metadata": {},
     "output_type": "execute_result"
    }
   ],
   "source": [
    "z = x1 - x2\n",
    "z"
   ]
  },
  {
   "cell_type": "code",
   "execution_count": 97,
   "id": "33dd568d-0966-47dd-965e-e9017b52d0fc",
   "metadata": {
    "tags": []
   },
   "outputs": [
    {
     "data": {
      "text/plain": [
       "tensor([[ 0.0300,  0.8293,  0.0082,  0.3024,  0.5191],\n",
       "        [-0.4339,  0.4811, -0.8896, -0.2387,  0.8337],\n",
       "        [-0.6750,  0.0542, -0.0855,  0.1293, -0.0620],\n",
       "        [-0.8555,  0.6932, -0.5383, -0.1249,  0.5102],\n",
       "        [-0.0553,  0.2897, -0.7013,  0.2696,  0.6467]])"
      ]
     },
     "execution_count": 97,
     "metadata": {},
     "output_type": "execute_result"
    }
   ],
   "source": [
    "(x2 - x1)"
   ]
  },
  {
   "cell_type": "code",
   "execution_count": 92,
   "id": "757113e7-b4b3-46bf-a319-1d4d98481e5d",
   "metadata": {
    "tags": []
   },
   "outputs": [
    {
     "data": {
      "text/plain": [
       "tensor([[0.8099, 0.1403, 0.9029, 0.4547, 0.4305],\n",
       "        [0.9584, 0.4919, 0.9978, 0.8683, 0.1040],\n",
       "        [0.9816, 0.9076, 0.9464, 0.6148, 0.9823],\n",
       "        [0.9947, 0.2800, 0.9858, 0.7977, 0.4393],\n",
       "        [0.8780, 0.6797, 0.9920, 0.4887, 0.3024]])"
      ]
     },
     "execution_count": 92,
     "metadata": {},
     "output_type": "execute_result"
    }
   ],
   "source": [
    "z = x1 ** x2\n",
    "z"
   ]
  },
  {
   "cell_type": "markdown",
   "id": "6c60d112-79a4-4c54-ab7b-4f78e5d6edb7",
   "metadata": {
    "tags": []
   },
   "source": [
    "#### Other useful tensor operations"
   ]
  },
  {
   "cell_type": "code",
   "execution_count": 98,
   "id": "e087ded2-8f8b-42ea-a1b7-da94fdb8006d",
   "metadata": {
    "tags": []
   },
   "outputs": [
    {
     "data": {
      "text/plain": [
       "tensor([1, 2, 3])"
      ]
     },
     "execution_count": 98,
     "metadata": {},
     "output_type": "execute_result"
    }
   ],
   "source": [
    "x"
   ]
  },
  {
   "cell_type": "code",
   "execution_count": 99,
   "id": "1a23ca88-827b-485f-851e-ff42777a601b",
   "metadata": {
    "tags": []
   },
   "outputs": [
    {
     "data": {
      "text/plain": [
       "tensor(6)"
      ]
     },
     "execution_count": 99,
     "metadata": {},
     "output_type": "execute_result"
    }
   ],
   "source": [
    "sum_x = torch.sum(x, dim=0)\n",
    "sum_x"
   ]
  },
  {
   "cell_type": "code",
   "execution_count": 101,
   "id": "22f53b50-2a5a-4b8f-b87d-c21d97c7e172",
   "metadata": {
    "tags": []
   },
   "outputs": [
    {
     "data": {
      "text/plain": [
       "(tensor(3), tensor(2))"
      ]
     },
     "execution_count": 101,
     "metadata": {},
     "output_type": "execute_result"
    }
   ],
   "source": [
    "values, indices = torch.max(x, dim=0)\n",
    "values, indices"
   ]
  },
  {
   "cell_type": "code",
   "execution_count": 102,
   "id": "2e73caed-4a28-435f-bd59-1561604b0b4c",
   "metadata": {
    "tags": []
   },
   "outputs": [
    {
     "data": {
      "text/plain": [
       "(tensor(1), tensor(0))"
      ]
     },
     "execution_count": 102,
     "metadata": {},
     "output_type": "execute_result"
    }
   ],
   "source": [
    "values, indices = torch.min(x, dim=0)\n",
    "values, indices"
   ]
  },
  {
   "cell_type": "code",
   "execution_count": 103,
   "id": "cf7b87f7-8714-4da3-87f3-841d28840d74",
   "metadata": {
    "tags": []
   },
   "outputs": [
    {
     "data": {
      "text/plain": [
       "tensor([1, 2, 3])"
      ]
     },
     "execution_count": 103,
     "metadata": {},
     "output_type": "execute_result"
    }
   ],
   "source": [
    "abs_x = torch.abs(x)\n",
    "abs_x"
   ]
  },
  {
   "cell_type": "code",
   "execution_count": 104,
   "id": "6a91083b-4e6b-4718-a5b0-f7769faeabe9",
   "metadata": {
    "tags": []
   },
   "outputs": [
    {
     "data": {
      "text/plain": [
       "tensor(2)"
      ]
     },
     "execution_count": 104,
     "metadata": {},
     "output_type": "execute_result"
    }
   ],
   "source": [
    "z = torch.argmax(x, dim=0)\n",
    "z"
   ]
  },
  {
   "cell_type": "code",
   "execution_count": 105,
   "id": "d6d36ead-df08-4f33-b388-b57219e11f64",
   "metadata": {
    "tags": []
   },
   "outputs": [
    {
     "data": {
      "text/plain": [
       "tensor(0)"
      ]
     },
     "execution_count": 105,
     "metadata": {},
     "output_type": "execute_result"
    }
   ],
   "source": [
    "z = torch.argmin(x, dim=0)\n",
    "z"
   ]
  },
  {
   "cell_type": "code",
   "execution_count": 106,
   "id": "6da6b03e-c124-4fa3-9a5d-a4f61cff30c7",
   "metadata": {
    "tags": []
   },
   "outputs": [
    {
     "data": {
      "text/plain": [
       "tensor(2.)"
      ]
     },
     "execution_count": 107,
     "metadata": {},
     "output_type": "execute_result"
    }
   ],
   "source": [
    "mean_x = torch.mean(x.float(), dim=0)\n",
    "mean_x"
   ]
  },
  {
   "cell_type": "code",
   "execution_count": 108,
   "id": "68cf1183-e812-43c5-940f-5ef0884a9457",
   "metadata": {
    "tags": []
   },
   "outputs": [
    {
     "data": {
      "text/plain": [
       "tensor([False, False, False])"
      ]
     },
     "execution_count": 108,
     "metadata": {},
     "output_type": "execute_result"
    }
   ],
   "source": [
    "z = torch.eq(x, y)\n",
    "z"
   ]
  },
  {
   "cell_type": "code",
   "execution_count": 111,
   "id": "9026d410-102d-4006-a11b-b142bcd17f23",
   "metadata": {
    "tags": []
   },
   "outputs": [
    {
     "data": {
      "text/plain": [
       "(tensor([7, 8, 9]), tensor([2, 1, 0]))"
      ]
     },
     "execution_count": 111,
     "metadata": {},
     "output_type": "execute_result"
    }
   ],
   "source": [
    "sorted_y, indices = torch.sort(y, dim=0, descending=False)\n",
    "sorted_y, indices"
   ]
  },
  {
   "cell_type": "code",
   "execution_count": 114,
   "id": "eb64c08a-6f8a-4d10-b25f-c03a45e63336",
   "metadata": {
    "tags": []
   },
   "outputs": [
    {
     "data": {
      "text/plain": [
       "tensor([1, 2, 2])"
      ]
     },
     "execution_count": 114,
     "metadata": {},
     "output_type": "execute_result"
    }
   ],
   "source": [
    "z = torch.clamp(x, min=0, max=2)\n",
    "z"
   ]
  },
  {
   "cell_type": "code",
   "execution_count": 115,
   "id": "adfea38b-c3c9-4407-8539-33e382e9dedc",
   "metadata": {
    "tags": []
   },
   "outputs": [
    {
     "data": {
      "text/plain": [
       "tensor([1, 2, 3])"
      ]
     },
     "execution_count": 115,
     "metadata": {},
     "output_type": "execute_result"
    }
   ],
   "source": [
    "x"
   ]
  },
  {
   "cell_type": "code",
   "execution_count": 116,
   "id": "7d5f40eb-1529-4de0-bfa1-6a49eb1955b8",
   "metadata": {
    "tags": []
   },
   "outputs": [
    {
     "data": {
      "text/plain": [
       "tensor([ True,  True,  True, False, False,  True])"
      ]
     },
     "execution_count": 116,
     "metadata": {},
     "output_type": "execute_result"
    }
   ],
   "source": [
    "z = torch.tensor([1, 1, 1, 0, 0, 1], dtype=torch.bool)\n",
    "z"
   ]
  },
  {
   "cell_type": "code",
   "execution_count": 117,
   "id": "bb2c9de1-d8fc-4ad8-a934-f6d1836bc9a3",
   "metadata": {
    "tags": []
   },
   "outputs": [
    {
     "data": {
      "text/plain": [
       "tensor(True)"
      ]
     },
     "execution_count": 117,
     "metadata": {},
     "output_type": "execute_result"
    }
   ],
   "source": [
    "z = torch.any(x)\n",
    "z"
   ]
  },
  {
   "cell_type": "code",
   "execution_count": 118,
   "id": "39aa9bfc-aedc-4d96-8c91-466d9aad1c94",
   "metadata": {
    "tags": []
   },
   "outputs": [
    {
     "data": {
      "text/plain": [
       "tensor(True)"
      ]
     },
     "execution_count": 118,
     "metadata": {},
     "output_type": "execute_result"
    }
   ],
   "source": [
    "torch.all(x)"
   ]
  },
  {
   "cell_type": "code",
   "execution_count": null,
   "id": "8165627f-487d-4c90-9daa-709ecaee0061",
   "metadata": {},
   "outputs": [],
   "source": []
  }
 ],
 "metadata": {
  "kernelspec": {
   "display_name": "Python (torch_env)",
   "language": "python",
   "name": "torch_env"
  },
  "language_info": {
   "codemirror_mode": {
    "name": "ipython",
    "version": 3
   },
   "file_extension": ".py",
   "mimetype": "text/x-python",
   "name": "python",
   "nbconvert_exporter": "python",
   "pygments_lexer": "ipython3",
   "version": "3.8.16"
  }
 },
 "nbformat": 4,
 "nbformat_minor": 5
}
